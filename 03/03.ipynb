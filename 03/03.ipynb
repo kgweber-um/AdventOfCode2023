{
 "cells": [
  {
   "cell_type": "code",
   "execution_count": 272,
   "id": "initial_id",
   "metadata": {
    "collapsed": true,
    "ExecuteTime": {
     "end_time": "2023-12-08T16:17:41.516354Z",
     "start_time": "2023-12-08T16:17:41.503143Z"
    }
   },
   "outputs": [],
   "source": [
    "import re\n",
    "import math\n",
    "with open('full_03.txt', 'r') as f:\n",
    "    data = [x.strip() for x in f.readlines()]"
   ]
  },
  {
   "cell_type": "code",
   "execution_count": 273,
   "outputs": [],
   "source": [
    "class Item:\n",
    "    def __init__(self, row, match: re.Match):\n",
    "        self.row: int = row\n",
    "        self.start_col: int = match.span()[0]\n",
    "        self.end_col: int = match.span()[1] -1\n",
    "        self.adjacents: list[Item] = []\n",
    "\n",
    "    def look_around(self, other_items: list):\n",
    "        adj= []\n",
    "        for item in other_items:\n",
    "            if item.row in (self.row, self.row - 1, self.row + 1):\n",
    "                if (item.start_col <= self.end_col + 1) and (item.end_col >= self.start_col - 1):\n",
    "                    adj.append(item)\n",
    "            else:\n",
    "                continue\n",
    "\n",
    "        self.adjacents = adj\n",
    "    \n",
    "class Part(Item):\n",
    "    def __init__(self, row, match: re.Match):\n",
    "        super().__init__(row, match)\n",
    "        self.value: int = int(match.group())\n",
    "        \n",
    "    def __repr__(self):\n",
    "        return f'Part({self.value}, row:{self.row}, start_col:{self.start_col}, end_col:{self.end_col}, adjacents #: {len(self.adjacents)})'\n",
    "    \n",
    "class Gear(Item):\n",
    "    def __init__(self, row, match: re.Match):\n",
    "        super().__init__(row, match)\n",
    "        self.value: str = match.group()\n",
    "        self.power: int = 0\n",
    "        \n",
    "    def calculate_power(self, parts):\n",
    "        self.look_around(other_items=parts)\n",
    "        if len(self.adjacents) > 1:\n",
    "            self.power = math.prod([x.value for x in self.adjacents])\n",
    "        else:\n",
    "            self.power = 0\n",
    "            \n",
    "    def __repr__(self):\n",
    "        return f'Gear({self.value}, row:{self.row}, start_col:{self.start_col}, end_col:{self.end_col}, adjacents #: {len(self.adjacents)}, power: {self.power})'"
   ],
   "metadata": {
    "collapsed": false,
    "ExecuteTime": {
     "end_time": "2023-12-08T16:17:41.542593Z",
     "start_time": "2023-12-08T16:17:41.517876Z"
    }
   },
   "id": "e7957daa660ec10f"
  },
  {
   "cell_type": "code",
   "execution_count": 274,
   "outputs": [],
   "source": [
    "part_candidates = []\n",
    "symbols = []\n",
    "\n",
    "for r, text in enumerate(data):\n",
    "    found_parts = re.finditer(r'\\d+', text)\n",
    "    for part in found_parts:\n",
    "        part_candidates.append(Part(r, part))\n",
    "    found_symbols = re.finditer(r'[^\\.\\d]', text)\n",
    "    for symbol in found_symbols:\n",
    "        symbols.append(Gear(r, symbol))"
   ],
   "metadata": {
    "collapsed": false,
    "ExecuteTime": {
     "end_time": "2023-12-08T16:17:41.542929Z",
     "start_time": "2023-12-08T16:17:41.531625Z"
    }
   },
   "id": "5c2b54a312466110"
  },
  {
   "cell_type": "code",
   "execution_count": 275,
   "outputs": [],
   "source": [
    "for part in part_candidates:\n",
    "    part.look_around(symbols)\n",
    "    \n",
    "for symbol in symbols:\n",
    "    symbol.calculate_power(part_candidates)"
   ],
   "metadata": {
    "collapsed": false,
    "ExecuteTime": {
     "end_time": "2023-12-08T16:17:41.801612Z",
     "start_time": "2023-12-08T16:17:41.576078Z"
    }
   },
   "id": "5221a7ff9684dc49"
  },
  {
   "cell_type": "code",
   "execution_count": 276,
   "outputs": [
    {
     "data": {
      "text/plain": "527369"
     },
     "execution_count": 276,
     "metadata": {},
     "output_type": "execute_result"
    }
   ],
   "source": [
    "# part 1\n",
    "sum([x.value for x in part_candidates if len(x.adjacents) > 0])"
   ],
   "metadata": {
    "collapsed": false,
    "ExecuteTime": {
     "end_time": "2023-12-08T16:17:41.815252Z",
     "start_time": "2023-12-08T16:17:41.805548Z"
    }
   },
   "id": "14b734be847e7f5e"
  },
  {
   "cell_type": "code",
   "execution_count": 277,
   "outputs": [
    {
     "data": {
      "text/plain": "73074886"
     },
     "execution_count": 277,
     "metadata": {},
     "output_type": "execute_result"
    }
   ],
   "source": [
    "# part 2\n",
    "sum([x.power for x in symbols])"
   ],
   "metadata": {
    "collapsed": false,
    "ExecuteTime": {
     "end_time": "2023-12-08T16:17:41.827660Z",
     "start_time": "2023-12-08T16:17:41.814423Z"
    }
   },
   "id": "6d5f6b9ceb1b93d0"
  },
  {
   "cell_type": "code",
   "execution_count": 277,
   "outputs": [],
   "source": [],
   "metadata": {
    "collapsed": false,
    "ExecuteTime": {
     "end_time": "2023-12-08T16:17:41.861766Z",
     "start_time": "2023-12-08T16:17:41.819924Z"
    }
   },
   "id": "b79d6e9c71803b67"
  }
 ],
 "metadata": {
  "kernelspec": {
   "display_name": "Python 3",
   "language": "python",
   "name": "python3"
  },
  "language_info": {
   "codemirror_mode": {
    "name": "ipython",
    "version": 2
   },
   "file_extension": ".py",
   "mimetype": "text/x-python",
   "name": "python",
   "nbconvert_exporter": "python",
   "pygments_lexer": "ipython2",
   "version": "2.7.6"
  }
 },
 "nbformat": 4,
 "nbformat_minor": 5
}
