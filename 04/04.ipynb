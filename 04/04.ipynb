{
 "cells": [
  {
   "cell_type": "code",
   "execution_count": 152,
   "id": "initial_id",
   "metadata": {
    "collapsed": true,
    "ExecuteTime": {
     "end_time": "2023-12-08T21:14:55.248381Z",
     "start_time": "2023-12-08T21:14:55.233673Z"
    }
   },
   "outputs": [],
   "source": [
    "import re\n",
    "\n",
    "cards = {}\n",
    "\n",
    "# file = 'test_04.txt'\n",
    "file = 'full_04.txt'\n",
    "\n",
    "with open(file, 'r') as f:\n",
    "    data = [x.strip() for x in f.readlines()]\n",
    "\n",
    "for card in data:\n",
    "    cards.update({int(re.findall(r'\\d+', card.split(':')[0])[0]): {'raw_data': card.split(':')[1].split('|')}})"
   ]
  },
  {
   "cell_type": "code",
   "execution_count": 153,
   "outputs": [],
   "source": [
    "def score(overlap):\n",
    "    score = 2 ** (len(overlap) - 1)\n",
    "    if score >= 1:\n",
    "        return score\n",
    "    else:\n",
    "        return 0\n",
    "\n",
    "\n",
    "for card, data in cards.items():\n",
    "    cards[card]['winners'] = [int(x) for x in (re.findall(r'\\d+', data['raw_data'][0]))]\n",
    "    cards[card]['held'] = [int(x) for x in (re.findall(r'\\d+', data['raw_data'][1]))]\n",
    "    cards[card]['overlap'] = set(cards[card]['winners']).intersection(set(cards[card]['held']))\n",
    "    cards[card]['score'] = score(cards[card]['overlap'])\n",
    "    cards[card]['total_copies'] = 1"
   ],
   "metadata": {
    "collapsed": false,
    "ExecuteTime": {
     "end_time": "2023-12-08T21:14:55.260962Z",
     "start_time": "2023-12-08T21:14:55.256320Z"
    }
   },
   "id": "96710f53cc686834"
  },
  {
   "cell_type": "code",
   "execution_count": 154,
   "outputs": [
    {
     "name": "stdout",
     "output_type": "stream",
     "text": [
      "25174\n"
     ]
    }
   ],
   "source": [
    "# part 1\n",
    "print(sum([x['score'] for x in cards.values()]))"
   ],
   "metadata": {
    "collapsed": false,
    "ExecuteTime": {
     "end_time": "2023-12-08T21:14:55.280539Z",
     "start_time": "2023-12-08T21:14:55.264798Z"
    }
   },
   "id": "d9ab284986875318"
  },
  {
   "cell_type": "code",
   "execution_count": 155,
   "outputs": [],
   "source": [
    "for key, card in cards.items():\n",
    "    for add_card in range(key + 1, key + 1 + len(card['overlap'])):\n",
    "        cards[add_card]['total_copies'] += (card['total_copies'])"
   ],
   "metadata": {
    "collapsed": false,
    "ExecuteTime": {
     "end_time": "2023-12-08T21:14:55.280733Z",
     "start_time": "2023-12-08T21:14:55.272740Z"
    }
   },
   "id": "1cb7e86098d55b0b"
  },
  {
   "cell_type": "code",
   "execution_count": 156,
   "outputs": [
    {
     "data": {
      "text/plain": "6420979"
     },
     "execution_count": 156,
     "metadata": {},
     "output_type": "execute_result"
    }
   ],
   "source": [
    "# part 2\n",
    "sum([val['total_copies'] for key, val in cards.items()])"
   ],
   "metadata": {
    "collapsed": false,
    "ExecuteTime": {
     "end_time": "2023-12-08T21:14:55.343877Z",
     "start_time": "2023-12-08T21:14:55.281401Z"
    }
   },
   "id": "c81d333c8e92178b"
  },
  {
   "cell_type": "code",
   "execution_count": 156,
   "outputs": [],
   "source": [],
   "metadata": {
    "collapsed": false,
    "ExecuteTime": {
     "end_time": "2023-12-08T21:14:55.352036Z",
     "start_time": "2023-12-08T21:14:55.288675Z"
    }
   },
   "id": "43e4a8ad36b9bd37"
  }
 ],
 "metadata": {
  "kernelspec": {
   "display_name": "Python 3",
   "language": "python",
   "name": "python3"
  },
  "language_info": {
   "codemirror_mode": {
    "name": "ipython",
    "version": 2
   },
   "file_extension": ".py",
   "mimetype": "text/x-python",
   "name": "python",
   "nbconvert_exporter": "python",
   "pygments_lexer": "ipython2",
   "version": "2.7.6"
  }
 },
 "nbformat": 4,
 "nbformat_minor": 5
}
