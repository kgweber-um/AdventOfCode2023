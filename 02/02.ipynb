{
 "cells": [
  {
   "cell_type": "code",
   "execution_count": 87,
   "id": "initial_id",
   "metadata": {
    "collapsed": true,
    "ExecuteTime": {
     "end_time": "2023-12-08T16:14:59.714040Z",
     "start_time": "2023-12-08T16:14:59.708941Z"
    }
   },
   "outputs": [],
   "source": [
    "import math\n",
    "games = {}\n",
    "with open('full_02.txt', 'r') as f:\n",
    "    data = f.readlines()"
   ]
  },
  {
   "cell_type": "code",
   "execution_count": 88,
   "outputs": [],
   "source": [
    "# parse data\n",
    "for line in data:\n",
    "    line = line.strip()\n",
    "    line = line.split(': ')\n",
    "    game_no = int(line[0].split(' ')[1])\n",
    "    game_data = line[1]\n",
    "    games[game_no] = {}\n",
    "    for index, batch in enumerate(game_data.split('; ')):\n",
    "        games[game_no][index] = {}\n",
    "        for colour in batch.split(', '):\n",
    "            col = colour.split(' ')\n",
    "            val = int(col[0])\n",
    "            games[game_no][index][col[1]] = val"
   ],
   "metadata": {
    "collapsed": false,
    "ExecuteTime": {
     "end_time": "2023-12-08T16:14:59.730650Z",
     "start_time": "2023-12-08T16:14:59.719599Z"
    }
   },
   "id": "534d36a2a655df16"
  },
  {
   "cell_type": "code",
   "execution_count": 89,
   "outputs": [],
   "source": [
    "maxvals = {\"red\": 12, \"green\": 13, \"blue\": 14}"
   ],
   "metadata": {
    "collapsed": false,
    "ExecuteTime": {
     "end_time": "2023-12-08T16:14:59.731453Z",
     "start_time": "2023-12-08T16:14:59.727073Z"
    }
   },
   "id": "908da54693dfdf6d"
  },
  {
   "cell_type": "code",
   "execution_count": 90,
   "outputs": [
    {
     "name": "stdout",
     "output_type": "stream",
     "text": [
      "2162\n"
     ]
    }
   ],
   "source": [
    "# part 1\n",
    "\n",
    "good_ids = {x: 1 for x in games.keys()}\n",
    "\n",
    "for game_id, game_data in games.items():\n",
    "    for batch_id, batch_data in game_data.items():\n",
    "        for colour, val in batch_data.items():\n",
    "            if val > maxvals[colour]:\n",
    "                good_ids[game_id] = 0\n",
    "                break\n",
    "                \n",
    "answer = sum([x for x in good_ids if good_ids[x] == 1])\n",
    "print(answer)"
   ],
   "metadata": {
    "collapsed": false,
    "ExecuteTime": {
     "end_time": "2023-12-08T16:14:59.739254Z",
     "start_time": "2023-12-08T16:14:59.734334Z"
    }
   },
   "id": "b7b8d132142bd634"
  },
  {
   "cell_type": "code",
   "execution_count": 91,
   "outputs": [],
   "source": [
    "# part 2\n",
    "mincubes = {}\n",
    "\n",
    "for game_id, game_data in games.items():\n",
    "    mincubes[game_id] = {\"red\": 0, \"green\": 0, \"blue\": 0}\n",
    "    for batch_id, batch_data in game_data.items():\n",
    "        for colour, val in batch_data.items():\n",
    "            mincubes[game_id][colour] = max(mincubes[game_id][colour], val)\n",
    "    mincubes[game_id]['power'] = math.prod(mincubes[game_id].values())"
   ],
   "metadata": {
    "collapsed": false,
    "ExecuteTime": {
     "end_time": "2023-12-08T16:14:59.749099Z",
     "start_time": "2023-12-08T16:14:59.744862Z"
    }
   },
   "id": "d864d9fb3d0b6ac7"
  },
  {
   "cell_type": "code",
   "execution_count": 92,
   "outputs": [
    {
     "data": {
      "text/plain": "72513"
     },
     "execution_count": 92,
     "metadata": {},
     "output_type": "execute_result"
    }
   ],
   "source": [
    "answer = sum([mincubes[x]['power'] for x in mincubes])\n",
    "answer"
   ],
   "metadata": {
    "collapsed": false,
    "ExecuteTime": {
     "end_time": "2023-12-08T16:14:59.791481Z",
     "start_time": "2023-12-08T16:14:59.750035Z"
    }
   },
   "id": "4adf86306db44c8"
  }
 ],
 "metadata": {
  "kernelspec": {
   "display_name": "Python 3",
   "language": "python",
   "name": "python3"
  },
  "language_info": {
   "codemirror_mode": {
    "name": "ipython",
    "version": 2
   },
   "file_extension": ".py",
   "mimetype": "text/x-python",
   "name": "python",
   "nbconvert_exporter": "python",
   "pygments_lexer": "ipython2",
   "version": "2.7.6"
  }
 },
 "nbformat": 4,
 "nbformat_minor": 5
}
