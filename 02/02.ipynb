{
 "cells": [
  {
   "cell_type": "code",
   "execution_count": 86,
   "id": "initial_id",
   "metadata": {
    "collapsed": true,
    "ExecuteTime": {
     "end_time": "2023-12-08T16:12:49.173433Z",
     "start_time": "2023-12-08T16:12:49.098664Z"
    }
   },
   "outputs": [
    {
     "ename": "FileNotFoundError",
     "evalue": "[Errno 2] No such file or directory: 'full_02.txt'",
     "output_type": "error",
     "traceback": [
      "\u001B[0;31m---------------------------------------------------------------------------\u001B[0m",
      "\u001B[0;31mFileNotFoundError\u001B[0m                         Traceback (most recent call last)",
      "Cell \u001B[0;32mIn[86], line 3\u001B[0m\n\u001B[1;32m      1\u001B[0m \u001B[38;5;28;01mimport\u001B[39;00m \u001B[38;5;21;01mmath\u001B[39;00m\n\u001B[1;32m      2\u001B[0m games \u001B[38;5;241m=\u001B[39m {}\n\u001B[0;32m----> 3\u001B[0m \u001B[38;5;28;01mwith\u001B[39;00m \u001B[38;5;28mopen\u001B[39m(\u001B[38;5;124m'\u001B[39m\u001B[38;5;124mfull_02.txt\u001B[39m\u001B[38;5;124m'\u001B[39m, \u001B[38;5;124m'\u001B[39m\u001B[38;5;124mr\u001B[39m\u001B[38;5;124m'\u001B[39m) \u001B[38;5;28;01mas\u001B[39;00m f:\n\u001B[1;32m      4\u001B[0m     data \u001B[38;5;241m=\u001B[39m f\u001B[38;5;241m.\u001B[39mreadlines()\n",
      "File \u001B[0;32m~/.conda/envs/AdventOfCode2023/lib/python3.11/site-packages/IPython/core/interactiveshell.py:286\u001B[0m, in \u001B[0;36m_modified_open\u001B[0;34m(file, *args, **kwargs)\u001B[0m\n\u001B[1;32m    279\u001B[0m \u001B[38;5;28;01mif\u001B[39;00m file \u001B[38;5;129;01min\u001B[39;00m {\u001B[38;5;241m0\u001B[39m, \u001B[38;5;241m1\u001B[39m, \u001B[38;5;241m2\u001B[39m}:\n\u001B[1;32m    280\u001B[0m     \u001B[38;5;28;01mraise\u001B[39;00m \u001B[38;5;167;01mValueError\u001B[39;00m(\n\u001B[1;32m    281\u001B[0m         \u001B[38;5;124mf\u001B[39m\u001B[38;5;124m\"\u001B[39m\u001B[38;5;124mIPython won\u001B[39m\u001B[38;5;124m'\u001B[39m\u001B[38;5;124mt let you open fd=\u001B[39m\u001B[38;5;132;01m{\u001B[39;00mfile\u001B[38;5;132;01m}\u001B[39;00m\u001B[38;5;124m by default \u001B[39m\u001B[38;5;124m\"\u001B[39m\n\u001B[1;32m    282\u001B[0m         \u001B[38;5;124m\"\u001B[39m\u001B[38;5;124mas it is likely to crash IPython. If you know what you are doing, \u001B[39m\u001B[38;5;124m\"\u001B[39m\n\u001B[1;32m    283\u001B[0m         \u001B[38;5;124m\"\u001B[39m\u001B[38;5;124myou can use builtins\u001B[39m\u001B[38;5;124m'\u001B[39m\u001B[38;5;124m open.\u001B[39m\u001B[38;5;124m\"\u001B[39m\n\u001B[1;32m    284\u001B[0m     )\n\u001B[0;32m--> 286\u001B[0m \u001B[38;5;28;01mreturn\u001B[39;00m io_open(file, \u001B[38;5;241m*\u001B[39margs, \u001B[38;5;241m*\u001B[39m\u001B[38;5;241m*\u001B[39mkwargs)\n",
      "\u001B[0;31mFileNotFoundError\u001B[0m: [Errno 2] No such file or directory: 'full_02.txt'"
     ]
    }
   ],
   "source": [
    "import math\n",
    "games = {}\n",
    "with open('full_02.txt', 'r') as f:\n",
    "    data = f.readlines()"
   ]
  },
  {
   "cell_type": "code",
   "execution_count": null,
   "outputs": [],
   "source": [
    "# parse data\n",
    "for line in data:\n",
    "    line = line.strip()\n",
    "    line = line.split(': ')\n",
    "    game_no = int(line[0].split(' ')[1])\n",
    "    game_data = line[1]\n",
    "    games[game_no] = {}\n",
    "    for index, batch in enumerate(game_data.split('; ')):\n",
    "        games[game_no][index] = {}\n",
    "        for colour in batch.split(', '):\n",
    "            col = colour.split(' ')\n",
    "            val = int(col[0])\n",
    "            games[game_no][index][col[1]] = val"
   ],
   "metadata": {
    "collapsed": false,
    "ExecuteTime": {
     "start_time": "2023-12-08T16:12:49.175446Z"
    }
   },
   "id": "534d36a2a655df16"
  },
  {
   "cell_type": "code",
   "execution_count": null,
   "outputs": [],
   "source": [
    "maxvals = {\"red\": 12, \"green\": 13, \"blue\": 14}"
   ],
   "metadata": {
    "collapsed": false,
    "ExecuteTime": {
     "start_time": "2023-12-08T16:12:49.179068Z"
    }
   },
   "id": "908da54693dfdf6d"
  },
  {
   "cell_type": "code",
   "execution_count": null,
   "outputs": [],
   "source": [
    "# part 1\n",
    "\n",
    "good_ids = {x: 1 for x in games.keys()}\n",
    "\n",
    "for game_id, game_data in games.items():\n",
    "    for batch_id, batch_data in game_data.items():\n",
    "        for colour, val in batch_data.items():\n",
    "            if val > maxvals[colour]:\n",
    "                good_ids[game_id] = 0\n",
    "                break\n",
    "                \n",
    "answer = sum([x for x in good_ids if good_ids[x] == 1])\n",
    "print(answer)"
   ],
   "metadata": {
    "collapsed": false,
    "ExecuteTime": {
     "end_time": "2023-12-08T16:12:49.184667Z",
     "start_time": "2023-12-08T16:12:49.181858Z"
    }
   },
   "id": "b7b8d132142bd634"
  },
  {
   "cell_type": "code",
   "execution_count": null,
   "outputs": [],
   "source": [
    "# part 2\n",
    "mincubes = {}\n",
    "\n",
    "for game_id, game_data in games.items():\n",
    "    mincubes[game_id] = {\"red\": 0, \"green\": 0, \"blue\": 0}\n",
    "    for batch_id, batch_data in game_data.items():\n",
    "        for colour, val in batch_data.items():\n",
    "            mincubes[game_id][colour] = max(mincubes[game_id][colour], val)\n",
    "    mincubes[game_id]['power'] = math.prod(mincubes[game_id].values())"
   ],
   "metadata": {
    "collapsed": false,
    "ExecuteTime": {
     "end_time": "2023-12-08T16:12:49.185074Z",
     "start_time": "2023-12-08T16:12:49.184917Z"
    }
   },
   "id": "d864d9fb3d0b6ac7"
  },
  {
   "cell_type": "code",
   "execution_count": null,
   "outputs": [],
   "source": [
    "answer = sum([mincubes[x]['power'] for x in mincubes])\n",
    "answer"
   ],
   "metadata": {
    "collapsed": false,
    "ExecuteTime": {
     "start_time": "2023-12-08T16:12:49.187539Z"
    }
   },
   "id": "4adf86306db44c8"
  }
 ],
 "metadata": {
  "kernelspec": {
   "display_name": "Python 3",
   "language": "python",
   "name": "python3"
  },
  "language_info": {
   "codemirror_mode": {
    "name": "ipython",
    "version": 2
   },
   "file_extension": ".py",
   "mimetype": "text/x-python",
   "name": "python",
   "nbconvert_exporter": "python",
   "pygments_lexer": "ipython2",
   "version": "2.7.6"
  }
 },
 "nbformat": 4,
 "nbformat_minor": 5
}
